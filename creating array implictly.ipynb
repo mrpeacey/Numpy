{
 "cells": [
  {
   "cell_type": "code",
   "execution_count": 2,
   "id": "0c3b35a0-bc63-4db0-8dbb-dfbf2e78f623",
   "metadata": {},
   "outputs": [],
   "source": [
    "#explicit initialzation of array\n",
    "import numpy as np"
   ]
  },
  {
   "cell_type": "code",
   "execution_count": 12,
   "id": "ce612b2a-9dc7-4510-baad-19ee8042ab5b",
   "metadata": {},
   "outputs": [
    {
     "name": "stdout",
     "output_type": "stream",
     "text": [
      "[[[1. 1. 1. 1.]\n",
      "  [1. 1. 1. 1.]\n",
      "  [1. 1. 1. 1.]]\n",
      "\n",
      " [[1. 1. 1. 1.]\n",
      "  [1. 1. 1. 1.]\n",
      "  [1. 1. 1. 1.]]]\n",
      "[[[0. 0. 0. 0.]\n",
      "  [0. 0. 0. 0.]\n",
      "  [0. 0. 0. 0.]]\n",
      "\n",
      " [[0. 0. 0. 0.]\n",
      "  [0. 0. 0. 0.]\n",
      "  [0. 0. 0. 0.]]]\n",
      "[[[4 4 4 4]\n",
      "  [4 4 4 4]\n",
      "  [4 4 4 4]]\n",
      "\n",
      " [[4 4 4 4]\n",
      "  [4 4 4 4]\n",
      "  [4 4 4 4]]]\n",
      "[2 2 2 2]\n",
      "[[1. 0. 0.]\n",
      " [0. 1. 0.]\n",
      " [0. 0. 1.]]\n"
     ]
    }
   ],
   "source": [
    "print(np.ones((2,3,4)))\n",
    "print(np.zeros((2,3,4)));\n",
    "print(np.full((2,3,4),4))#takes 2 paramter and other takes only 1 parameter\n",
    "print(np.random.randint(2,3,4));#low,high,size\n",
    "print(np.identity(3));#REQUIRES only one parameter as identity matrix are always square matrix\n"
   ]
  },
  {
   "cell_type": "code",
   "execution_count": 16,
   "id": "3815ef17-b6b4-4087-a57f-050f1d57ce59",
   "metadata": {},
   "outputs": [
    {
     "name": "stdout",
     "output_type": "stream",
     "text": [
      "[[1 1 1 1 1]\n",
      " [1 1 1 1 1]\n",
      " [1 1 1 1 1]\n",
      " [1 1 1 1 1]\n",
      " [1 1 1 1 1]]\n"
     ]
    }
   ],
   "source": [
    "arr=np.ones((5,5),dtype=\"int32\");\n",
    "print(arr);"
   ]
  },
  {
   "cell_type": "code",
   "execution_count": 24,
   "id": "028e5fa8-3408-4ab6-82e0-5b1a895f0864",
   "metadata": {},
   "outputs": [
    {
     "name": "stdout",
     "output_type": "stream",
     "text": [
      "[[1 1 1 1 1]\n",
      " [1 0 0 0 1]\n",
      " [1 0 9 0 1]\n",
      " [1 0 0 0 1]\n",
      " [1 1 1 1 1]]\n"
     ]
    }
   ],
   "source": [
    "#some challanges\n",
    "for i in range (1,4):\n",
    "    for j in range(1,4):\n",
    "        arr[i,j]=0;\n",
    "        if(i==2 and j==2):\n",
    "          arr[i,j]=9;\n",
    "print(arr);"
   ]
  },
  {
   "cell_type": "code",
   "execution_count": 28,
   "id": "fdb5ba6b-cce5-44a5-a5d2-d67de2977c06",
   "metadata": {},
   "outputs": [
    {
     "name": "stdout",
     "output_type": "stream",
     "text": [
      "[[1. 1. 1. 1. 1.]\n",
      " [1. 0. 0. 0. 1.]\n",
      " [1. 0. 9. 0. 1.]\n",
      " [1. 0. 0. 0. 1.]\n",
      " [1. 1. 1. 1. 1.]]\n"
     ]
    }
   ],
   "source": [
    "#the above can also be done as\n",
    "arr2=np.ones((5,5));\n",
    "arr3=np.zeros((3,3));\n",
    "arr3[1,1]=9;\n",
    "arr2[1:4,1:4]=arr3;\n",
    "print(arr2);"
   ]
  },
  {
   "cell_type": "code",
   "execution_count": null,
   "id": "d79b8828-a921-42fe-b80e-26351be33dcc",
   "metadata": {},
   "outputs": [],
   "source": []
  },
  {
   "cell_type": "code",
   "execution_count": null,
   "id": "6487faa8-8d40-4454-9a24-426dce224db9",
   "metadata": {},
   "outputs": [],
   "source": []
  },
  {
   "cell_type": "code",
   "execution_count": null,
   "id": "1966c341-15fe-45b0-bfe7-10369e435314",
   "metadata": {},
   "outputs": [],
   "source": []
  },
  {
   "cell_type": "code",
   "execution_count": null,
   "id": "cab4e90a-e9e1-4af6-8b7d-32cbdc3b0080",
   "metadata": {},
   "outputs": [],
   "source": []
  },
  {
   "cell_type": "code",
   "execution_count": null,
   "id": "2f203436-fb6b-449c-930f-8435cbeaf94e",
   "metadata": {},
   "outputs": [],
   "source": []
  }
 ],
 "metadata": {
  "kernelspec": {
   "display_name": "Python 3 (ipykernel)",
   "language": "python",
   "name": "python3"
  },
  "language_info": {
   "codemirror_mode": {
    "name": "ipython",
    "version": 3
   },
   "file_extension": ".py",
   "mimetype": "text/x-python",
   "name": "python",
   "nbconvert_exporter": "python",
   "pygments_lexer": "ipython3",
   "version": "3.13.5"
  }
 },
 "nbformat": 4,
 "nbformat_minor": 5
}
