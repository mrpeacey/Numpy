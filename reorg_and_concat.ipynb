{
 "cells": [
  {
   "cell_type": "code",
   "execution_count": null,
   "id": "6f6c86f1-67fb-4e3a-b3fb-6dd804649100",
   "metadata": {},
   "outputs": [],
   "source": [
    "#Reorganizing array"
   ]
  },
  {
   "cell_type": "code",
   "execution_count": 3,
   "id": "4885cca4-5b89-4537-94de-a859996ee21c",
   "metadata": {},
   "outputs": [],
   "source": [
    "import numpy as np"
   ]
  },
  {
   "cell_type": "code",
   "execution_count": 6,
   "id": "48f8d687-a8e7-470f-ad71-8ad5644283bf",
   "metadata": {},
   "outputs": [
    {
     "name": "stdout",
     "output_type": "stream",
     "text": [
      "[[4 4]\n",
      " [4 4]\n",
      " [4 4]]\n"
     ]
    }
   ],
   "source": [
    "before=np.full((2,3),4);\n",
    "after=before.reshape(3,2);\n",
    "print(after);\n"
   ]
  },
  {
   "cell_type": "code",
   "execution_count": 9,
   "id": "1bc440bb-1071-4c3e-ab08-dfbabcf381af",
   "metadata": {},
   "outputs": [
    {
     "name": "stdout",
     "output_type": "stream",
     "text": [
      "[[1 2 3]\n",
      " [4 5 6]\n",
      " [1 2 3]\n",
      " [4 5 6]]\n"
     ]
    }
   ],
   "source": [
    "#vertically stacking\n",
    "x=np.array([1,2,3]);\n",
    "y=np.array([4,5,6]);\n",
    "print(np.vstack((x,y,x,y)));"
   ]
  },
  {
   "cell_type": "code",
   "execution_count": 13,
   "id": "153dc303-1af0-4ed3-8bba-4861be26b98a",
   "metadata": {},
   "outputs": [
    {
     "name": "stdout",
     "output_type": "stream",
     "text": [
      "[1 2 3 4 5 6]\n"
     ]
    }
   ],
   "source": [
    "#horizontally stacking\n",
    "print(np.hstack((x,y)));"
   ]
  },
  {
   "cell_type": "code",
   "execution_count": null,
   "id": "04a763dc-290c-45b9-bf59-cec9d41cf887",
   "metadata": {},
   "outputs": [],
   "source": []
  },
  {
   "cell_type": "code",
   "execution_count": null,
   "id": "d6b57fb7-5984-40fe-9403-3647ff9283c3",
   "metadata": {},
   "outputs": [],
   "source": []
  },
  {
   "cell_type": "code",
   "execution_count": null,
   "id": "49b47f1c-b26e-4913-9f34-a5f689e97f06",
   "metadata": {},
   "outputs": [],
   "source": []
  }
 ],
 "metadata": {
  "kernelspec": {
   "display_name": "Python 3 (ipykernel)",
   "language": "python",
   "name": "python3"
  },
  "language_info": {
   "codemirror_mode": {
    "name": "ipython",
    "version": 3
   },
   "file_extension": ".py",
   "mimetype": "text/x-python",
   "name": "python",
   "nbconvert_exporter": "python",
   "pygments_lexer": "ipython3",
   "version": "3.13.5"
  }
 },
 "nbformat": 4,
 "nbformat_minor": 5
}
