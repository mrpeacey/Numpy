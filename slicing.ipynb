{
 "cells": [
  {
   "cell_type": "code",
   "execution_count": 3,
   "id": "b9e36d96-6242-4237-bea9-8f3bebf7568d",
   "metadata": {},
   "outputs": [],
   "source": [
    "\n",
    "import numpy as np"
   ]
  },
  {
   "cell_type": "code",
   "execution_count": 17,
   "id": "96952f22-db13-44b3-82fd-e804014e97d3",
   "metadata": {},
   "outputs": [
    {
     "name": "stdout",
     "output_type": "stream",
     "text": [
      "[[ 1  2  3  4  5  6  7]\n",
      " [ 8  9 10 11 12 13 14]]\n"
     ]
    }
   ],
   "source": [
    "a2d=np.array([[1,2,3,4,5,6,7],[8,9,10,11,12,13,14]]);\n",
    "print(a2d);"
   ]
  },
  {
   "cell_type": "code",
   "execution_count": 26,
   "id": "56bc5cfb-6f6a-4357-8190-78aea9f978fb",
   "metadata": {},
   "outputs": [
    {
     "name": "stdout",
     "output_type": "stream",
     "text": [
      "[ 8  9 10 11 12 13 14]\n"
     ]
    }
   ],
   "source": [
    "#Get specific Row,Column from 2D\n",
    "\n",
    "print(a2d[1,:]);"
   ]
  },
  {
   "cell_type": "code",
   "execution_count": 28,
   "id": "3f0c82d5-1561-43ce-a9d2-95bbb59e1c91",
   "metadata": {},
   "outputs": [
    {
     "name": "stdout",
     "output_type": "stream",
     "text": [
      "[[ 1  3  5]\n",
      " [ 8 10 12]]\n"
     ]
    }
   ],
   "source": [
    "print(a2d[:,0:6:2]);"
   ]
  },
  {
   "cell_type": "code",
   "execution_count": 29,
   "id": "e38b0e96-b095-4726-b85d-2c12e6e88b71",
   "metadata": {},
   "outputs": [
    {
     "name": "stdout",
     "output_type": "stream",
     "text": [
      "[[ 1  2  3  4  5  6  7]\n",
      " [ 8  6 10 11 12 13 14]]\n"
     ]
    }
   ],
   "source": [
    "#change some of the values\n",
    "a2d[1,1]= 6\n",
    "print(a2d);"
   ]
  },
  {
   "cell_type": "code",
   "execution_count": 39,
   "id": "e129c66f-a43a-4939-9794-c7c9194d2072",
   "metadata": {},
   "outputs": [
    {
     "name": "stdout",
     "output_type": "stream",
     "text": [
      "[[[2 3 4]\n",
      "  [4 5 6]]\n",
      "\n",
      " [[4 5 6]\n",
      "  [7 8 9]]]\n"
     ]
    }
   ],
   "source": [
    "#3d example\n",
    "a3d=np.array([\n",
    "     [\n",
    "         [2,3,4],[4,5,6]\n",
    "     ],\n",
    "      [\n",
    "         [4,5,6],[7,8,9]\n",
    "         ]\n",
    "]);\n",
    "print(a3d);"
   ]
  },
  {
   "cell_type": "code",
   "execution_count": 40,
   "id": "322c9aa0-5c12-48db-be47-b9dd32b8bab1",
   "metadata": {},
   "outputs": [
    {
     "name": "stdout",
     "output_type": "stream",
     "text": [
      "[[[2 3 4]\n",
      "  [4 5 6]]]\n"
     ]
    }
   ],
   "source": [
    "print(a3d[:1:]);"
   ]
  },
  {
   "cell_type": "code",
   "execution_count": null,
   "id": "8c147569-7553-4735-8c53-1fb6d491c91f",
   "metadata": {},
   "outputs": [],
   "source": []
  },
  {
   "cell_type": "code",
   "execution_count": null,
   "id": "79d6cfc8-7614-4408-b718-49e27450987c",
   "metadata": {},
   "outputs": [],
   "source": []
  }
 ],
 "metadata": {
  "kernelspec": {
   "display_name": "Python 3 (ipykernel)",
   "language": "python",
   "name": "python3"
  },
  "language_info": {
   "codemirror_mode": {
    "name": "ipython",
    "version": 3
   },
   "file_extension": ".py",
   "mimetype": "text/x-python",
   "name": "python",
   "nbconvert_exporter": "python",
   "pygments_lexer": "ipython3",
   "version": "3.13.5"
  }
 },
 "nbformat": 4,
 "nbformat_minor": 5
}
