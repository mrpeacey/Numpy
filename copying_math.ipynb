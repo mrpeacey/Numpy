{
 "cells": [
  {
   "cell_type": "code",
   "execution_count": 2,
   "id": "01a62ce6-8435-46e1-a1ea-95d6032593e1",
   "metadata": {},
   "outputs": [],
   "source": [
    "#Copying an array\n",
    "import numpy as np"
   ]
  },
  {
   "cell_type": "code",
   "execution_count": 5,
   "id": "d311f005-e1e3-4c48-9afd-e3a17b0fec9d",
   "metadata": {},
   "outputs": [
    {
     "name": "stdout",
     "output_type": "stream",
     "text": [
      "[ 2 50  4  5] [ 2 50  4  5]\n"
     ]
    }
   ],
   "source": [
    "a=np.array([2,3,4,5]);\n",
    "b=a##now it creates an issue as both array points to same array\n",
    "b[1]=50;\n",
    "print(a,b);\n",
    "#thus change in value of one array results in change of another\n"
   ]
  },
  {
   "cell_type": "code",
   "execution_count": 8,
   "id": "ed8dee00-48d4-4abe-94b4-0213fd448cce",
   "metadata": {},
   "outputs": [
    {
     "name": "stdout",
     "output_type": "stream",
     "text": [
      "[ 2 50  4  5] [ 2 50 50  5]\n"
     ]
    }
   ],
   "source": [
    "#therefore we use copy function\n",
    "c=a.copy();\n",
    "c[2]=50;\n",
    "print(a,c);"
   ]
  },
  {
   "cell_type": "code",
   "execution_count": 15,
   "id": "22b9c829-4827-4c3e-af95-31f5930715c2",
   "metadata": {},
   "outputs": [
    {
     "name": "stdout",
     "output_type": "stream",
     "text": [
      "[  8 104  12  14]\n",
      "[  16 2704   36   49]\n",
      "[ 6 54  8  9]\n",
      "[  16 2704   36   49]\n",
      "[ 6 54  8  9]\n",
      "[-0.2794155  -0.55878905  0.98935825  0.41211849]\n"
     ]
    }
   ],
   "source": [
    "#basic math\n",
    "print(a+b);\n",
    "print(a*b);#this is element wise multiplication not matrix\n",
    "print(a+2);\n",
    "print(a**2);\n",
    "a+=2;\n",
    "print(a);\n",
    "print(np.sin(a));\n"
   ]
  },
  {
   "cell_type": "code",
   "execution_count": 22,
   "id": "8d9d4186-0b62-424b-852c-901a8905abff",
   "metadata": {},
   "outputs": [
    {
     "name": "stdout",
     "output_type": "stream",
     "text": [
      "[[6 6]\n",
      " [6 6]]\n",
      "[[4 4 4]\n",
      " [4 4 4]\n",
      " [4 4 4]]\n"
     ]
    }
   ],
   "source": [
    "#Linear Algebra\n",
    "#multiplication\n",
    "arr1=np.full( (2,3),1);\n",
    "arr2=np.full( (3,2),2);\n",
    "x=np.matmul(arr1,arr2);#which verifies doesnot follow commutative law i.e A.B=B.A\n",
    "y=np.matmul(arr2,arr1);\n",
    "print(x);\n",
    "print(y);"
   ]
  },
  {
   "cell_type": "code",
   "execution_count": 32,
   "id": "422cade4-ad19-47c5-a6ab-4ff2af110987",
   "metadata": {},
   "outputs": [
    {
     "name": "stdout",
     "output_type": "stream",
     "text": [
      "0.0\n",
      "[[1. 0. 0.]\n",
      " [0. 1. 0.]\n",
      " [0. 0. 1.]]\n"
     ]
    }
   ],
   "source": [
    "print(np.linalg.det(x));\n",
    "print(np.linalg.inv(np.identity(3)));\n"
   ]
  },
  {
   "cell_type": "code",
   "execution_count": 35,
   "id": "1cb0752d-3e56-45b2-9728-e43f4ed414a8",
   "metadata": {},
   "outputs": [
    {
     "name": "stdout",
     "output_type": "stream",
     "text": [
      "1\n",
      "2\n",
      "6\n"
     ]
    }
   ],
   "source": [
    "#FINDING MAXIMUM AND MINIMUM VALUE OF AN ARRAY\n",
    "print(np.min(arr1));\n",
    "print(np.max(arr2));\n",
    "#Summing all the values of matrix\n",
    "print(np.sum(arr1));"
   ]
  },
  {
   "cell_type": "code",
   "execution_count": null,
   "id": "065da89e-313e-4c9d-96fb-6d385d9a36c7",
   "metadata": {},
   "outputs": [],
   "source": []
  },
  {
   "cell_type": "code",
   "execution_count": null,
   "id": "2a5d1c97-af98-4734-824f-4d313219f9b2",
   "metadata": {},
   "outputs": [],
   "source": []
  },
  {
   "cell_type": "code",
   "execution_count": null,
   "id": "72fb6c46-c3db-4b12-8433-9f8342626a0d",
   "metadata": {},
   "outputs": [],
   "source": []
  },
  {
   "cell_type": "code",
   "execution_count": null,
   "id": "4921296f-d319-4f2d-9019-cc24aa5f656d",
   "metadata": {},
   "outputs": [],
   "source": []
  },
  {
   "cell_type": "code",
   "execution_count": null,
   "id": "43c202c8-34e6-45c4-b4ff-bde88f1cabeb",
   "metadata": {},
   "outputs": [],
   "source": []
  }
 ],
 "metadata": {
  "kernelspec": {
   "display_name": "Python 3 (ipykernel)",
   "language": "python",
   "name": "python3"
  },
  "language_info": {
   "codemirror_mode": {
    "name": "ipython",
    "version": 3
   },
   "file_extension": ".py",
   "mimetype": "text/x-python",
   "name": "python",
   "nbconvert_exporter": "python",
   "pygments_lexer": "ipython3",
   "version": "3.13.5"
  }
 },
 "nbformat": 4,
 "nbformat_minor": 5
}
